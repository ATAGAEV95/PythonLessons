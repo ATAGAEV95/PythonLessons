{
 "cells": [
  {
   "metadata": {
    "ExecuteTime": {
     "end_time": "2025-05-02T17:04:36.861501Z",
     "start_time": "2025-05-02T17:04:36.856047Z"
    }
   },
   "cell_type": "code",
   "source": [
    "import time\n",
    "import threading\n",
    "\n",
    "\n",
    "def get_data(data):\n",
    "    for _ in range(5):\n",
    "        print(f\"[{threading.current_thread().name}] {data}\")\n",
    "        time.sleep(1)\n",
    "\n",
    "\n",
    "thr = threading.Thread(target=get_data, args=(str(time.time()),))\n",
    "thr.start()\n",
    "\n",
    "print('finish')"
   ],
   "id": "af24353df0d382d6",
   "outputs": [
    {
     "name": "stdout",
     "output_type": "stream",
     "text": [
      "[Thread-24 (get_data)] 1746205476.8580623\n",
      "finish\n"
     ]
    }
   ],
   "execution_count": 23
  }
 ],
 "metadata": {
  "kernelspec": {
   "display_name": "Python 3",
   "language": "python",
   "name": "python3"
  },
  "language_info": {
   "codemirror_mode": {
    "name": "ipython",
    "version": 2
   },
   "file_extension": ".py",
   "mimetype": "text/x-python",
   "name": "python",
   "nbconvert_exporter": "python",
   "pygments_lexer": "ipython2",
   "version": "2.7.6"
  }
 },
 "nbformat": 4,
 "nbformat_minor": 5
}
